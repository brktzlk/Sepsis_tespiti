{
 "cells": [
  {
   "cell_type": "code",
   "execution_count": 9,
   "metadata": {},
   "outputs": [],
   "source": [
    "import glob\n",
    "import skimage.io as io\n",
    "import matplotlib.pyplot as plt\n",
    "import numpy as np\n",
    "import random as r\n",
    "from PIL import Image\n",
    "\n",
    "def seg_array(path,end,label):\n",
    "    files = glob.glob(path+end,recursive=True)\n",
    "    img_liste = []\n",
    "    r.seed(9)\n",
    "    r.shuffle(files)\n",
    "    for file in files:\n",
    "        img = io.imread(file,plugin='simpleitk')\n",
    "        \n",
    "        if label == 1:\n",
    "            img[img != 0 ] = 1 # tam tümör\n",
    "        if label == 2:\n",
    "            img[img != 1 ] = 0 # nekroz\n",
    "        if label == 3:\n",
    "            img[img == 2 ] = 0 # ödemsiz tümör\n",
    "            img[img != 0 ] = 1\n",
    "        if label == 4:\n",
    "            img[img != 4 ] = 0 # genişleyen tümör\n",
    "            img[img == 4 ] = 1\n",
    "         \n",
    "        img.astype('float32')\n",
    "        \n",
    "        for slice in range(60,130):\n",
    "            img_s = img[slice,:,:]\n",
    "            img_s = np.expand_dims(img_s,axis=0)\n",
    "            img_liste.append(img_s)\n",
    "            \n",
    "    return np.array(img_liste,np.float32) #!!!!!!!!"
   ]
  },
  {
   "cell_type": "code",
   "execution_count": 3,
   "metadata": {},
   "outputs": [],
   "source": [
    "path = 'C:\\\\Users\\\\yasar\\\\Desktop\\\\MICCAI_BraTS_2019_Data_Training\\\\MICCAI_BraTS_2019_Data_Training\\\\HGG\\\\'"
   ]
  },
  {
   "cell_type": "code",
   "execution_count": 4,
   "metadata": {},
   "outputs": [],
   "source": [
    "seg = seg_array(path,'**\\\\*seg.nii.gz',1)"
   ]
  },
  {
   "cell_type": "code",
   "execution_count": 13,
   "metadata": {},
   "outputs": [],
   "source": [
    "import matplotlib"
   ]
  },
  {
   "cell_type": "code",
   "execution_count": 22,
   "metadata": {},
   "outputs": [],
   "source": [
    "for i in range(0,70):\n",
    "    s = seg[i,0,:,:]\n",
    "    img = np.stack((s,)*3, axis=-1)\n",
    "    matplotlib.image.imsave('name{}.png'.format(i), img)"
   ]
  }
 ],
 "metadata": {
  "kernelspec": {
   "display_name": "base",
   "language": "python",
   "name": "base"
  },
  "language_info": {
   "codemirror_mode": {
    "name": "ipython",
    "version": 3
   },
   "file_extension": ".py",
   "mimetype": "text/x-python",
   "name": "python",
   "nbconvert_exporter": "python",
   "pygments_lexer": "ipython3",
   "version": "3.8.3"
  }
 },
 "nbformat": 4,
 "nbformat_minor": 4
}
